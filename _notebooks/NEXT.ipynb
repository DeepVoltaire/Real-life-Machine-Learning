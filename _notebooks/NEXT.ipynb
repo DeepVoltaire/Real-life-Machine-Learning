{
 "cells": [
  {
   "cell_type": "markdown",
   "metadata": {},
   "source": [
    "# Why do I want to start writing?\n",
    "> A brainstorming about possible future topics to write about\n",
    "\n",
    "- toc: true \n",
    "- badges: true\n",
    "- comments: true\n",
    "- categories: [writing]\n",
    "- author: Philip Popien\n",
    "- image: images/chart-preview.png"
   ]
  },
  {
   "cell_type": "markdown",
   "metadata": {},
   "source": [
    "# How do I got here?\n",
    "\n",
    "I was reading [\"How I Motivate Myself to Write\"](https://blog.pragmaticengineer.com/writing-motivation) and got motivated to start writing myself. As I am just starting, I will note down some thoughts about why I want to write here and will think about topics I can write about."
   ]
  },
  {
   "cell_type": "markdown",
   "metadata": {},
   "source": [
    "# Why do I want to write?\n",
    "\n",
    "Over the course of days and weeks I have many thoughts, but most of them remain in my head - more unclear than clear. It would be great to reflect on these thoughts, try to write them down and by doing them be forced to think more clearly about them and be able to formulate them concise."
   ]
  },
  {
   "cell_type": "markdown",
   "metadata": {},
   "source": [
    "# What seems important to succeed in writing?\n",
    "\n",
    "Writing regularly is one of the most important things to get into the habit and to get better. Daily is too much, every two weeks is too infrequent. I think I should write something weekly. This would amount to 52 posts per year, which would be a great success.\n",
    "\n",
    "When? I work remotely for an US company, which gives me flexibility in my mornings as nobody is awake yet. Friday mornings would be a great place to reflect on the ideas of the week."
   ]
  },
  {
   "cell_type": "markdown",
   "metadata": {},
   "source": [
    "# What could I write about?\n",
    "\n"
   ]
  },
  {
   "cell_type": "code",
   "execution_count": null,
   "metadata": {},
   "outputs": [],
   "source": []
  }
 ],
 "metadata": {
  "kernelspec": {
   "display_name": "Python 3",
   "language": "python",
   "name": "python3"
  },
  "language_info": {
   "codemirror_mode": {
    "name": "ipython",
    "version": 3
   },
   "file_extension": ".py",
   "mimetype": "text/x-python",
   "name": "python",
   "nbconvert_exporter": "python",
   "pygments_lexer": "ipython3",
   "version": "3.8.5"
  },
  "varInspector": {
   "cols": {
    "lenName": 16,
    "lenType": 16,
    "lenVar": 40
   },
   "kernels_config": {
    "python": {
     "delete_cmd_postfix": "",
     "delete_cmd_prefix": "del ",
     "library": "var_list.py",
     "varRefreshCmd": "print(var_dic_list())"
    },
    "r": {
     "delete_cmd_postfix": ") ",
     "delete_cmd_prefix": "rm(",
     "library": "var_list.r",
     "varRefreshCmd": "cat(var_dic_list()) "
    }
   },
   "types_to_exclude": [
    "module",
    "function",
    "builtin_function_or_method",
    "instance",
    "_Feature"
   ],
   "window_display": false
  }
 },
 "nbformat": 4,
 "nbformat_minor": 4
}

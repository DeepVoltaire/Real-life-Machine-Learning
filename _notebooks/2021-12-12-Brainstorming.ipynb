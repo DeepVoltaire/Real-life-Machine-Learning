{
 "cells": [
  {
   "cell_type": "markdown",
   "metadata": {},
   "source": [
    "# Why do I want to start writing?\n",
    "> My motivation to start writing in 2022\n",
    "\n",
    "- toc: true \n",
    "- badges: true\n",
    "- comments: true\n",
    "- categories: [writing]\n",
    "- author: Philip Popien\n",
    "- image: images/chart-preview.png"
   ]
  },
  {
   "cell_type": "markdown",
   "metadata": {},
   "source": [
    "I was reading [\"How I Motivate Myself to Write\"](https://blog.pragmaticengineer.com/writing-motivation) and got motivated to start writing myself. \n",
    "\n",
    "Over the course of days and weeks I have many thoughts, but most of them remain in my head - more unclear than clear. It would be great to reflect on these thoughts, try to write them down and by doing them be forced to think more clearly about them and be able to formulate them concise.\n",
    "\n",
    "In my field of work (Deep Learning for Computer Vision) I am seeing a lot of different approaches and have opinions I would like to voice and thereby help others. This blog is a way to do that.\n",
    "\n",
    "Exercising writing things down in English is a skill I can improve in a lot still. I am a German native speaker, but work in a company where everybody talks English. In my work I am noting down too little and do too little documenting of my code, decisions and projects. Feeling more comfortable in writing could help here.\n",
    "\n",
    "Writing forces you to put something out there, which will make you research the things you are saying a lot more than if you are just arguing with yourself in your own head. The same I observe when I am doing talks, it's exhausting, but very rewarding after it's done.\n",
    "\n",
    "And finally I want to learn from feedback I will get for my writing and ideas. Maybe people reach out to me because of something they read on this blog. The internet is vast and publishing quality content is one of the best ways to increase the number of opportunities that will reach you. It also looks cool on your resume to have a blog. ;)"
   ]
  }
 ],
 "metadata": {
  "kernelspec": {
   "display_name": "Python 3",
   "language": "python",
   "name": "python3"
  },
  "language_info": {
   "codemirror_mode": {
    "name": "ipython",
    "version": 3
   },
   "file_extension": ".py",
   "mimetype": "text/x-python",
   "name": "python",
   "nbconvert_exporter": "python",
   "pygments_lexer": "ipython3",
   "version": "3.8.5"
  },
  "varInspector": {
   "cols": {
    "lenName": 16,
    "lenType": 16,
    "lenVar": 40
   },
   "kernels_config": {
    "python": {
     "delete_cmd_postfix": "",
     "delete_cmd_prefix": "del ",
     "library": "var_list.py",
     "varRefreshCmd": "print(var_dic_list())"
    },
    "r": {
     "delete_cmd_postfix": ") ",
     "delete_cmd_prefix": "rm(",
     "library": "var_list.r",
     "varRefreshCmd": "cat(var_dic_list()) "
    }
   },
   "types_to_exclude": [
    "module",
    "function",
    "builtin_function_or_method",
    "instance",
    "_Feature"
   ],
   "window_display": false
  }
 },
 "nbformat": 4,
 "nbformat_minor": 4
}
